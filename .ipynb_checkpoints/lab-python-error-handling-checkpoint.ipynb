{
 "cells": [
  {
   "cell_type": "markdown",
   "metadata": {},
   "source": [
    "# Lab | Error Handling"
   ]
  },
  {
   "cell_type": "markdown",
   "metadata": {},
   "source": [
    "## Exercise: Error Handling for Managing Customer Orders\n",
    "\n",
    "The implementation of your code for managing customer orders assumes that the user will always enter a valid input. \n",
    "\n",
    "For example, we could modify the `initialize_inventory` function to include error handling.\n",
    "   - If the user enters an invalid quantity (e.g., a negative value or a non-numeric value), display an error message and ask them to re-enter the quantity for that product.\n",
    "   - Use a try-except block to handle the error and continue prompting the user until a valid quantity is entered.\n",
    "\n",
    "```python\n",
    "# Step 1: Define the function for initializing the inventory with error handling\n",
    "def initialize_inventory(products):\n",
    "    inventory = {}\n",
    "    for product in products:\n",
    "        valid_quantity = False\n",
    "        while not valid_quantity:\n",
    "            try:\n",
    "                quantity = int(input(f\"Enter the quantity of {product}s available: \"))\n",
    "                if quantity < 0:\n",
    "                    raise ValueError(\"Invalid quantity! Please enter a non-negative value.\")\n",
    "                valid_quantity = True\n",
    "            except ValueError as error:\n",
    "                print(f\"Error: {error}\")\n",
    "        inventory[product] = quantity\n",
    "    return inventory\n",
    "\n",
    "# Or, in another way:\n",
    "\n",
    "def initialize_inventory(products):\n",
    "    inventory = {}\n",
    "    for product in products:\n",
    "        valid_input = False\n",
    "        while not valid_input:\n",
    "            try:\n",
    "                quantity = int(input(f\"Enter the quantity of {product}s available: \"))\n",
    "                if quantity >= 0:\n",
    "                    inventory[product] = quantity\n",
    "                    valid_input = True\n",
    "                else:\n",
    "                    print(\"Quantity cannot be negative. Please enter a valid quantity.\")\n",
    "            except ValueError:\n",
    "                print(\"Invalid input. Please enter a valid quantity.\")\n",
    "    return inventory\n",
    "```\n",
    "\n",
    "Let's enhance your code by implementing error handling to handle invalid inputs.\n",
    "\n",
    "Follow the steps below to complete the exercise:\n",
    "\n",
    "2. Modify the `calculate_total_price` function to include error handling.\n",
    "   - If the user enters an invalid price (e.g., a negative value or a non-numeric value), display an error message and ask them to re-enter the price for that product.\n",
    "   - Use a try-except block to handle the error and continue prompting the user until a valid price is entered.\n",
    "\n",
    "3. Modify the `get_customer_orders` function to include error handling.\n",
    "   - If the user enters an invalid number of orders (e.g., a negative value or a non-numeric value), display an error message and ask them to re-enter the number of orders.\n",
    "   - If the user enters an invalid product name (e.g., a product name that is not in the inventory), or that doesn't have stock available, display an error message and ask them to re-enter the product name. *Hint: you will need to pass inventory as a parameter*\n",
    "   - Use a try-except block to handle the error and continue prompting the user until a valid product name is entered.\n",
    "\n",
    "4. Test your code by running the program and deliberately entering invalid quantities and product names. Make sure the error handling mechanism works as expected.\n"
   ]
  },
  {
   "cell_type": "markdown",
   "metadata": {},
   "source": [
    "## Solution"
   ]
  },
  {
   "cell_type": "code",
   "execution_count": 1,
   "metadata": {},
   "outputs": [],
   "source": [
    "# Calculate total price\n",
    "def calculate_total_price():\n",
    "    input_ =int(input(\"Please enter the number of customer orders: \"))\n",
    "    print()\n",
    "    products = [\"t-shirt\", \"mug\", \"hat\", \"book\", \"keychain\"]\n",
    "    print(products)\n",
    "    customer_orders = [str(num) for num in input(\"Enter the name of a product that a customer wants to order from the above listed products separated by space: \").strip().split()[:input_]]\n",
    "    try:\n",
    "        enter_price = [int(num) for num in input(f\"Enter the price of {customer_orders} in separated space: \").strip().split()]\n",
    "    except ValueError:\n",
    "        print(\"Error: Entered value must be numbers.\")\n",
    "        try: \n",
    "            enter_price = [int(num) for num in input(f\"Enter the price of {customer_orders} in separated space: \").strip().split()]\n",
    "            for n in enter_price:\n",
    "                assert n > 0 # Test if it true\n",
    "        except AssertionError:\n",
    "                print(\"Error: The value entered is negative, Please try again with a postive value.\")\n",
    "        \n",
    "                \n",
    "        else:\n",
    "            print(\"Value entered correct.\")\n",
    "            print(\"Total price: \",sum(enter_price))"
   ]
  },
  {
   "cell_type": "code",
   "execution_count": 3,
   "metadata": {
    "scrolled": true
   },
   "outputs": [
    {
     "name": "stdout",
     "output_type": "stream",
     "text": [
      "Please enter the number of customer orders: 2\n",
      "\n",
      "['t-shirt', 'mug', 'hat', 'book', 'keychain']\n",
      "Enter the name of a product that a customer wants to order from the above listed products separated by space: book hat\n",
      "Enter the price of ['book', 'hat'] in separated space: b n\n",
      "Error: Entered value must be numbers.\n",
      "Enter the price of ['book', 'hat'] in separated space: 23 45\n",
      "Value entered correct.\n",
      "Total price:  68\n"
     ]
    }
   ],
   "source": [
    "# Display the function\n",
    "calculate_total_price()"
   ]
  },
  {
   "cell_type": "code",
   "execution_count": 4,
   "metadata": {},
   "outputs": [],
   "source": [
    "# Modify the customer orders function\n",
    "def get_customer_orders():\n",
    "    try:\n",
    "        input_ = int(input(\"Please enter the number of customer orders: \"))\n",
    "        print()\n",
    "    except ValueError:\n",
    "        print(\"Error: Entered value must be numbers.\")\n",
    "        try:\n",
    "            input_ = int(input(\"Please enter the number of customer orders: \"))\n",
    "            assert  input_ > 0 # Test if it true\n",
    "        except AssertionError:\n",
    "            print(\"Error: The value entered is negative, Please try again with a postive value.\")\n",
    "        else:\n",
    "            print(\"Value entered correct: \",input_)\n",
    "        "
   ]
  },
  {
   "cell_type": "code",
   "execution_count": 5,
   "metadata": {},
   "outputs": [
    {
     "name": "stdout",
     "output_type": "stream",
     "text": [
      "Please enter the number of customer orders: n\n",
      "Error: Entered value must be numbers.\n",
      "Please enter the number of customer orders: -1\n",
      "Error: The value entered is negative, Please try again with a postive value.\n"
     ]
    }
   ],
   "source": [
    "# Calling the function\n",
    "get_customer_orders()"
   ]
  },
  {
   "cell_type": "code",
   "execution_count": 17,
   "metadata": {},
   "outputs": [],
   "source": [
    "def customer_order():\n",
    "    while True:\n",
    "        products = [\"t-shirt\", \"mug\", \"hat\", \"book\", \"keychain\"]\n",
    "        print(products)\n",
    "        customer_orders = [str(num) for num in input(\"Enter the name of a product that a customer wants to order from the above listed products separated by space: \").strip().split()[:len(products)]]\n",
    "        for p in customer_orders:\n",
    "            if p in products:\n",
    "                break\n",
    "            else:\n",
    "                raise ValueError(\"Error: The value entered is wrong, Please choose from the provided list of products. Try again\")"
   ]
  },
  {
   "cell_type": "code",
   "execution_count": 18,
   "metadata": {},
   "outputs": [
    {
     "name": "stdout",
     "output_type": "stream",
     "text": [
      "['t-shirt', 'mug', 'hat', 'book', 'keychain']\n",
      "Enter the name of a product that a customer wants to order from the above listed products separated by space: pen\n"
     ]
    },
    {
     "ename": "ValueError",
     "evalue": "Error: The value entered is wrong, Please choose from the provided list of products. Try again",
     "output_type": "error",
     "traceback": [
      "\u001b[1;31m---------------------------------------------------------------------------\u001b[0m",
      "\u001b[1;31mValueError\u001b[0m                                Traceback (most recent call last)",
      "\u001b[1;32m<ipython-input-18-d03917e31cba>\u001b[0m in \u001b[0;36m<module>\u001b[1;34m\u001b[0m\n\u001b[1;32m----> 1\u001b[1;33m \u001b[0mcustomer_order\u001b[0m\u001b[1;33m(\u001b[0m\u001b[1;33m)\u001b[0m\u001b[1;33m\u001b[0m\u001b[1;33m\u001b[0m\u001b[0m\n\u001b[0m",
      "\u001b[1;32m<ipython-input-17-10494a90b7c4>\u001b[0m in \u001b[0;36mcustomer_order\u001b[1;34m()\u001b[0m\n\u001b[0;32m      8\u001b[0m                 \u001b[1;32mbreak\u001b[0m\u001b[1;33m\u001b[0m\u001b[1;33m\u001b[0m\u001b[0m\n\u001b[0;32m      9\u001b[0m             \u001b[1;32melse\u001b[0m\u001b[1;33m:\u001b[0m\u001b[1;33m\u001b[0m\u001b[1;33m\u001b[0m\u001b[0m\n\u001b[1;32m---> 10\u001b[1;33m                 \u001b[1;32mraise\u001b[0m \u001b[0mValueError\u001b[0m\u001b[1;33m(\u001b[0m\u001b[1;34m\"Error: The value entered is wrong, Please choose from the provided list of products. Try again\"\u001b[0m\u001b[1;33m)\u001b[0m\u001b[1;33m\u001b[0m\u001b[1;33m\u001b[0m\u001b[0m\n\u001b[0m",
      "\u001b[1;31mValueError\u001b[0m: Error: The value entered is wrong, Please choose from the provided list of products. Try again"
     ]
    }
   ],
   "source": [
    "# Calling the function\n",
    "customer_order()"
   ]
  }
 ],
 "metadata": {
  "kernelspec": {
   "display_name": "Python 3",
   "language": "python",
   "name": "python3"
  },
  "language_info": {
   "codemirror_mode": {
    "name": "ipython",
    "version": 3
   },
   "file_extension": ".py",
   "mimetype": "text/x-python",
   "name": "python",
   "nbconvert_exporter": "python",
   "pygments_lexer": "ipython3",
   "version": "3.6.8"
  }
 },
 "nbformat": 4,
 "nbformat_minor": 5
}
